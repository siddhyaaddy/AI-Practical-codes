{
 "cells": [
  {
   "cell_type": "code",
   "execution_count": 1,
   "id": "627772c4-7070-46f4-8684-f89f95786f18",
   "metadata": {},
   "outputs": [
    {
     "name": "stdin",
     "output_type": "stream",
     "text": [
      "Enter the number of vertices:  3\n",
      "Enter the number of edges:  4\n"
     ]
    },
    {
     "name": "stdout",
     "output_type": "stream",
     "text": [
      "Enter the edges in the format 'u v'\n"
     ]
    },
    {
     "name": "stdin",
     "output_type": "stream",
     "text": [
      " 1 3 \n",
      " 4 6\n",
      " 7 6\n",
      " 3 5\n",
      "Enter the starting vertex:  1\n"
     ]
    },
    {
     "name": "stdout",
     "output_type": "stream",
     "text": [
      "DFS:\n",
      "1 3 5 "
     ]
    }
   ],
   "source": [
    "#DFS\n",
    "from collections import defaultdict\n",
    "\n",
    "class Graph:\n",
    "    def __init__(self):\n",
    "        self.graph = defaultdict(list)\n",
    "    \n",
    "    def add_edge(self, u, v):\n",
    "        self.graph[u].append(v)\n",
    "        self.graph[v].append(u)\n",
    "\n",
    "    def DFS(self, v, visited):\n",
    "        visited.add(v)\n",
    "        print(v, end=' ')\n",
    "\n",
    "        for neighbor in self.graph[v]:\n",
    "            if neighbor not in visited:\n",
    "                self.DFS(neighbor, visited)\n",
    "\n",
    "if __name__ == '__main__':\n",
    "    g = Graph()\n",
    "    vertices = int(input(\"Enter the number of vertices: \"))\n",
    "    edges = int(input(\"Enter the number of edges: \"))\n",
    "    print(\"Enter the edges in the format 'u v'\")\n",
    "    for i in range(edges):\n",
    "        u, v = map(int, input().split())\n",
    "        g.add_edge(u, v)\n",
    "\n",
    "    start_vertex = int(input(\"Enter the starting vertex: \"))\n",
    "    print(\"DFS:\")\n",
    "    visited = set()\n",
    "    g.DFS(start_vertex, visited)\n"
   ]
  },
  {
   "cell_type": "code",
   "execution_count": null,
   "id": "ae984b69-c368-428f-9c24-8a8a63aac323",
   "metadata": {},
   "outputs": [],
   "source": []
  }
 ],
 "metadata": {
  "kernelspec": {
   "display_name": "Python 3 (ipykernel)",
   "language": "python",
   "name": "python3"
  },
  "language_info": {
   "codemirror_mode": {
    "name": "ipython",
    "version": 3
   },
   "file_extension": ".py",
   "mimetype": "text/x-python",
   "name": "python",
   "nbconvert_exporter": "python",
   "pygments_lexer": "ipython3",
   "version": "3.9.12"
  }
 },
 "nbformat": 4,
 "nbformat_minor": 5
}
