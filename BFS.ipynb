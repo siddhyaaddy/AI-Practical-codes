{
 "cells": [
  {
   "cell_type": "code",
   "execution_count": 7,
   "id": "b3187f0f-8ea3-4922-b5d7-874980ebb6de",
   "metadata": {},
   "outputs": [
    {
     "name": "stdin",
     "output_type": "stream",
     "text": [
      "Enter the number of vertices:  3\n",
      "Enter the number of edges:  4\n"
     ]
    },
    {
     "name": "stdout",
     "output_type": "stream",
     "text": [
      "Enter the edges in the format 'u v'\n"
     ]
    },
    {
     "name": "stdin",
     "output_type": "stream",
     "text": [
      " 1 2\n",
      " 3 6\n",
      " 2 4\n",
      " 2 5\n",
      "Enter the starting vertex:  1\n"
     ]
    },
    {
     "name": "stdout",
     "output_type": "stream",
     "text": [
      "\n",
      "BFS:\n",
      "1 2 4 5 "
     ]
    }
   ],
   "source": [
    "from collections import defaultdict\n",
    "\n",
    "class Graph:\n",
    "    def __init__(self):\n",
    "        self.graph = defaultdict(list)\n",
    "    \n",
    "    def add_edge(self, u, v):\n",
    "        self.graph[u].append(v)\n",
    "        self.graph[v].append(u)\n",
    "\n",
    "    def BFS(self, v):\n",
    "        visited = set()\n",
    "        queue = []\n",
    "        visited.add(v)\n",
    "        queue.append(v)\n",
    "\n",
    "        while queue:\n",
    "            v = queue.pop(0)\n",
    "            print(v, end=' ')\n",
    "\n",
    "            for neighbor in self.graph[v]:\n",
    "                if neighbor not in visited:\n",
    "                    visited.add(neighbor)\n",
    "                    queue.append(neighbor)\n",
    "\n",
    "if __name__ == '__main__':\n",
    "    g = Graph()\n",
    "    vertices = int(input(\"Enter the number of vertices: \"))\n",
    "    edges = int(input(\"Enter the number of edges: \"))\n",
    "    print(\"Enter the edges in the format 'u v'\")\n",
    "    for i in range(edges):\n",
    "        u, v = map(int, input().split())\n",
    "        g.add_edge(u, v)\n",
    "\n",
    "    start_vertex = int(input(\"Enter the starting vertex: \"))\n",
    "    print(\"\\nBFS:\")\n",
    "    g.BFS(start_vertex)\n"
   ]
  },
  {
   "cell_type": "code",
   "execution_count": null,
   "id": "d983572b-7d64-4bc7-bff7-2750e22e5f56",
   "metadata": {},
   "outputs": [],
   "source": []
  }
 ],
 "metadata": {
  "kernelspec": {
   "display_name": "Python 3 (ipykernel)",
   "language": "python",
   "name": "python3"
  },
  "language_info": {
   "codemirror_mode": {
    "name": "ipython",
    "version": 3
   },
   "file_extension": ".py",
   "mimetype": "text/x-python",
   "name": "python",
   "nbconvert_exporter": "python",
   "pygments_lexer": "ipython3",
   "version": "3.9.12"
  }
 },
 "nbformat": 4,
 "nbformat_minor": 5
}
