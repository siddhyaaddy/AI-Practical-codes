{
 "cells": [
  {
   "cell_type": "code",
   "execution_count": 1,
   "id": "5a0c2c19-b055-4267-b6e7-8f393bad6e68",
   "metadata": {},
   "outputs": [
    {
     "name": "stdin",
     "output_type": "stream",
     "text": [
      "Enter the number of nodes in the graph:  4\n",
      "Enter the name of node 1:  A\n",
      "Enter a neighbor of node A (or press enter to finish):  B\n",
      "Enter the weight of the edge between A and B:  3\n",
      "Enter a neighbor of node A (or press enter to finish):  \n",
      "Enter the name of node 2:  B\n",
      "Enter a neighbor of node B (or press enter to finish):  C\n",
      "Enter the weight of the edge between B and C:  4\n",
      "Enter a neighbor of node B (or press enter to finish):  D\n",
      "Enter the weight of the edge between B and D:  3\n",
      "Enter a neighbor of node B (or press enter to finish):  \n",
      "Enter the name of node 3:  C\n",
      "Enter a neighbor of node C (or press enter to finish):  A\n",
      "Enter the weight of the edge between C and A:  2\n",
      "Enter a neighbor of node C (or press enter to finish):  \n",
      "Enter the name of node 4:  D\n",
      "Enter a neighbor of node D (or press enter to finish):  C\n",
      "Enter the weight of the edge between D and C:  5\n",
      "Enter a neighbor of node D (or press enter to finish):  \n",
      "Enter the source node:  A\n"
     ]
    },
    {
     "name": "stdout",
     "output_type": "stream",
     "text": [
      "Shortest distances from source node:\n",
      "A: 0\n",
      "B: 3\n",
      "C: 7\n",
      "D: 6\n"
     ]
    }
   ],
   "source": [
    "import heapq\n",
    "\n",
    "def dijkstra(graph, start):\n",
    "    \"\"\"\n",
    "    Find the shortest path from start node to all other nodes in the graph using Dijkstra's Algorithm.\n",
    "    Returns a dictionary of the shortest distance to each node from the start node.\n",
    "    \"\"\"\n",
    "    distances = {node: float('inf') for node in graph}\n",
    "    distances[start] = 0\n",
    "    heap = [(0, start)]\n",
    "    \n",
    "    while heap:\n",
    "        (current_dist, node) = heapq.heappop(heap)\n",
    "        if current_dist > distances[node]:\n",
    "            continue\n",
    "        for neighbor, weight in graph[node].items():\n",
    "            dist = current_dist + weight\n",
    "            if dist < distances[neighbor]:\n",
    "                distances[neighbor] = dist\n",
    "                heapq.heappush(heap, (dist, neighbor))\n",
    "    \n",
    "    return distances\n",
    "\n",
    "# Example usage\n",
    "graph = {}\n",
    "n = int(input(\"Enter the number of nodes in the graph: \"))\n",
    "for i in range(n):\n",
    "    node = input(f\"Enter the name of node {i+1}: \")\n",
    "    graph[node] = {}\n",
    "    while True:\n",
    "        neighbor = input(f\"Enter a neighbor of node {node} (or press enter to finish): \")\n",
    "        if not neighbor:\n",
    "            break\n",
    "        weight = int(input(f\"Enter the weight of the edge between {node} and {neighbor}: \"))\n",
    "        graph[node][neighbor] = weight\n",
    "\n",
    "source = input(\"Enter the source node: \")\n",
    "distances = dijkstra(graph, source)\n",
    "print(\"Shortest distances from source node:\")\n",
    "for node, dist in distances.items():\n",
    "    print(f\"{node}: {dist}\")\n"
   ]
  },
  {
   "cell_type": "code",
   "execution_count": null,
   "id": "19715bcc-a6a8-45c8-88ab-150a02e5dd71",
   "metadata": {},
   "outputs": [],
   "source": []
  }
 ],
 "metadata": {
  "kernelspec": {
   "display_name": "Python 3 (ipykernel)",
   "language": "python",
   "name": "python3"
  },
  "language_info": {
   "codemirror_mode": {
    "name": "ipython",
    "version": 3
   },
   "file_extension": ".py",
   "mimetype": "text/x-python",
   "name": "python",
   "nbconvert_exporter": "python",
   "pygments_lexer": "ipython3",
   "version": "3.9.12"
  }
 },
 "nbformat": 4,
 "nbformat_minor": 5
}
