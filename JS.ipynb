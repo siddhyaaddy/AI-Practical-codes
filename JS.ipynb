{
 "cells": [
  {
   "cell_type": "code",
   "execution_count": 2,
   "id": "67601dc0-fb6b-4103-b2b0-2fceeb57e037",
   "metadata": {},
   "outputs": [],
   "source": [
    "# function to perform Job sequencing with deadlines\n",
    "def job_sequencing():\n",
    "    n = int(input(\"Enter the number of jobs: \"))\n",
    "    jobs = []\n",
    "    for i in range(n):\n",
    "        job_id = input(\"Enter the job ID for job \" + str(i+1) + \": \")\n",
    "        deadline = int(input(\"Enter the deadline for job \" + str(i+1) + \": \"))\n",
    "        profit = int(input(\"Enter the profit for job \" + str(i+1) + \": \"))\n",
    "        jobs.append((job_id, deadline, profit))\n",
    "    \n",
    "    # sort jobs in descending order of profits\n",
    "    jobs = sorted(jobs, key=lambda x: x[2], reverse=True)\n",
    "    \n",
    "    # find the maximum deadline among all jobs\n",
    "    max_deadline = max(jobs, key=lambda x: x[1])[1]\n",
    "    \n",
    "    # initialize the schedule with empty slots\n",
    "    schedule = [\"\"] * max_deadline\n",
    "    \n",
    "    # fill the schedule with jobs\n",
    "    total_profit = 0\n",
    "    for job in jobs:\n",
    "        for i in range(job[1]-1, -1, -1):\n",
    "            if schedule[i] == \"\":\n",
    "                schedule[i] = job[0]\n",
    "                total_profit += job[2]\n",
    "                break\n",
    "                \n",
    "    # print the schedule and total profit\n",
    "    print(\"Job schedule:\", \" -> \".join(schedule))\n",
    "    print(\"Total profit:\", total_profit)\n"
   ]
  },
  {
   "cell_type": "code",
   "execution_count": 6,
   "id": "85527f47-cf7c-4131-b812-d613d816a315",
   "metadata": {},
   "outputs": [
    {
     "name": "stdin",
     "output_type": "stream",
     "text": [
      "Enter the number of jobs:  3\n",
      "Enter the job ID for job 1:  A\n",
      "Enter the deadline for job 1:  3\n",
      "Enter the profit for job 1:  4\n",
      "Enter the job ID for job 2:  B\n",
      "Enter the deadline for job 2:  1\n",
      "Enter the profit for job 2:  3\n",
      "Enter the job ID for job 3:  C\n",
      "Enter the deadline for job 3:  1\n",
      "Enter the profit for job 3:  5\n"
     ]
    },
    {
     "name": "stdout",
     "output_type": "stream",
     "text": [
      "Job schedule: C ->  -> A\n",
      "Total profit: 9\n"
     ]
    }
   ],
   "source": [
    "job_sequencing()"
   ]
  },
  {
   "cell_type": "code",
   "execution_count": null,
   "id": "688a5d43-f01f-403d-bf39-a3954a67325f",
   "metadata": {},
   "outputs": [],
   "source": []
  }
 ],
 "metadata": {
  "kernelspec": {
   "display_name": "Python 3 (ipykernel)",
   "language": "python",
   "name": "python3"
  },
  "language_info": {
   "codemirror_mode": {
    "name": "ipython",
    "version": 3
   },
   "file_extension": ".py",
   "mimetype": "text/x-python",
   "name": "python",
   "nbconvert_exporter": "python",
   "pygments_lexer": "ipython3",
   "version": "3.9.12"
  }
 },
 "nbformat": 4,
 "nbformat_minor": 5
}
