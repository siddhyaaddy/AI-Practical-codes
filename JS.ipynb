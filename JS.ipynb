{
 "cells": [
  {
   "cell_type": "code",
   "execution_count": 4,
   "id": "67601dc0-fb6b-4103-b2b0-2fceeb57e037",
   "metadata": {},
   "outputs": [
    {
     "name": "stdin",
     "output_type": "stream",
     "text": [
      "Enter the number of jobs:  3\n",
      "Enter the profit of job 1:  100\n",
      "Enter the name of job 1:  j1\n",
      "Enter the deadline of job 1:  1\n",
      "Enter the profit of job 2:  50\n",
      "Enter the name of job 2:  j2\n",
      "Enter the deadline of job 2:  3\n",
      "Enter the profit of job 3:  200\n",
      "Enter the name of job 3:  j3\n",
      "Enter the deadline of job 3:  2\n"
     ]
    },
    {
     "name": "stdout",
     "output_type": "stream",
     "text": [
      "Jobs scheduled: ['j1', 'j3', 'j2']\n",
      "Total profit: 350\n"
     ]
    }
   ],
   "source": [
    "\n",
    "profit = []\n",
    "jobs = []\n",
    "deadline = []\n",
    "\n",
    "n = int(input(\"Enter the number of jobs: \"))\n",
    "\n",
    "for i in range(n):\n",
    "    p = int(input(\"Enter the profit of job {}: \".format(i+1)))\n",
    "    profit.append(p)\n",
    "    j = input(\"Enter the name of job {}: \".format(i+1))\n",
    "    jobs.append(j)\n",
    "    d = int(input(\"Enter the deadline of job {}: \".format(i+1)))\n",
    "    deadline.append(d)\n",
    "\n",
    "profitNJobs = list(zip(profit, jobs, deadline))\n",
    "profitNJobs = sorted(profitNJobs, key=lambda x: x[0], reverse=True)\n",
    "\n",
    "slot = [0] * (n+1)\n",
    "profit = 0\n",
    "ans = ['null'] * (n+1)\n",
    "\n",
    "for i in range(n):\n",
    "    job = profitNJobs[i]\n",
    "\n",
    "    for j in range(job[2], 0, -1):\n",
    "        if slot[j] == 0:\n",
    "            ans[j] = job[1]\n",
    "            profit += job[0]\n",
    "            slot[j] = 1\n",
    "            break\n",
    "\n",
    "print(\"Jobs scheduled:\", ans[1:])\n",
    "print(\"Total profit:\", profit)\n"
   ]
  },
  {
   "cell_type": "code",
   "execution_count": null,
   "id": "85527f47-cf7c-4131-b812-d613d816a315",
   "metadata": {},
   "outputs": [],
   "source": []
  },
  {
   "cell_type": "code",
   "execution_count": null,
   "id": "688a5d43-f01f-403d-bf39-a3954a67325f",
   "metadata": {},
   "outputs": [],
   "source": []
  }
 ],
 "metadata": {
  "kernelspec": {
   "display_name": "Python 3 (ipykernel)",
   "language": "python",
   "name": "python3"
  },
  "language_info": {
   "codemirror_mode": {
    "name": "ipython",
    "version": 3
   },
   "file_extension": ".py",
   "mimetype": "text/x-python",
   "name": "python",
   "nbconvert_exporter": "python",
   "pygments_lexer": "ipython3",
   "version": "3.9.12"
  }
 },
 "nbformat": 4,
 "nbformat_minor": 5
}
