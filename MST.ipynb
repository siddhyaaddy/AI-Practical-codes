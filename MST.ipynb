{
 "cells": [
  {
   "cell_type": "code",
   "execution_count": 2,
   "id": "e70bde2a-cc78-4fdd-85bb-f9b837262c0a",
   "metadata": {},
   "outputs": [
    {
     "name": "stdin",
     "output_type": "stream",
     "text": [
      "Enter the number of vertices:  3\n",
      "Enter row 1:  1 2 3 \n",
      "Enter row 2:  4 5 6\n",
      "Enter row 3:  7 8 9\n"
     ]
    },
    {
     "name": "stdout",
     "output_type": "stream",
     "text": [
      "Edges \tWeight\n",
      "0 - 1 \t 4\n",
      "0 - 2 \t 7\n"
     ]
    }
   ],
   "source": [
    "#MST\n",
    "# function to find the minimum key value node\n",
    "def min_key_node(key, mst_set, V):\n",
    "    min_val = float('inf')\n",
    "    min_node = None\n",
    "    for v in range(V):\n",
    "        if mst_set[v] == False and key[v] < min_val:\n",
    "            min_val = key[v]\n",
    "            min_node = v\n",
    "    return min_node\n",
    "\n",
    "# function to find the minimum spanning tree\n",
    "def mst_prim(graph, V):\n",
    "    # initialize key values to infinity and MST set to False\n",
    "    key = [float('inf')] * V\n",
    "    parent = [None] * V\n",
    "    mst_set = [False] * V\n",
    "    \n",
    "    # start with node 0\n",
    "    key[0] = 0\n",
    "    parent[0] = -1\n",
    "    \n",
    "    for i in range(V-1):\n",
    "        # pick the minimum key value node\n",
    "        u = min_key_node(key, mst_set, V)\n",
    "        mst_set[u] = True\n",
    "        \n",
    "        # update key values and parent of adjacent nodes\n",
    "        for v in range(V):\n",
    "            if graph[u][v] > 0 and mst_set[v] == False and key[v] > graph[u][v]:\n",
    "                key[v] = graph[u][v]\n",
    "                parent[v] = u\n",
    "    \n",
    "    # print the edges of MST\n",
    "    print(\"Edges \\tWeight\")\n",
    "    for i in range(1, V):\n",
    "        print(parent[i], \"-\", i, \"\\t\", graph[i][parent[i]])\n",
    "        \n",
    "# main program\n",
    "V = int(input(\"Enter the number of vertices: \"))\n",
    "graph = []\n",
    "for i in range(V):\n",
    "    row = list(map(int, input(f\"Enter row {i+1}: \").strip().split()))\n",
    "    graph.append(row)\n",
    "mst_prim(graph, V)\n"
   ]
  },
  {
   "cell_type": "code",
   "execution_count": null,
   "id": "dfc7cb94-1b73-48a2-8ad0-fe603227de42",
   "metadata": {},
   "outputs": [],
   "source": []
  }
 ],
 "metadata": {
  "kernelspec": {
   "display_name": "Python 3 (ipykernel)",
   "language": "python",
   "name": "python3"
  },
  "language_info": {
   "codemirror_mode": {
    "name": "ipython",
    "version": 3
   },
   "file_extension": ".py",
   "mimetype": "text/x-python",
   "name": "python",
   "nbconvert_exporter": "python",
   "pygments_lexer": "ipython3",
   "version": "3.9.12"
  }
 },
 "nbformat": 4,
 "nbformat_minor": 5
}
