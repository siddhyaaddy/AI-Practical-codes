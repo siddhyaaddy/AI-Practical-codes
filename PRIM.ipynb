{
 "cells": [
  {
   "cell_type": "code",
   "execution_count": 1,
   "id": "a856fe76-64ee-4f13-95cd-6fe5137e4b83",
   "metadata": {},
   "outputs": [
    {
     "name": "stdin",
     "output_type": "stream",
     "text": [
      "Enter the number of vertices:  4\n",
      " 1 3 4 6\n",
      " 4 5 6 7\n",
      " 7 8 9 10\n",
      " 2 6 5 11\n"
     ]
    },
    {
     "name": "stdout",
     "output_type": "stream",
     "text": [
      "Edge \tWeight\n",
      "0 - 1 \t 4\n",
      "0 - 2 \t 7\n",
      "0 - 3 \t 2\n"
     ]
    }
   ],
   "source": [
    "import sys\n",
    "\n",
    "# Function to find the vertex with minimum key value from the set of vertices not yet included in MST\n",
    "def minKey(key, mstSet, V):\n",
    "    # Initialize minimum value\n",
    "    min_val = sys.maxsize\n",
    "    min_index = None\n",
    "    \n",
    "    for v in range(V):\n",
    "        if key[v] < min_val and mstSet[v] == False:\n",
    "            min_val = key[v]\n",
    "            min_index = v\n",
    "    \n",
    "    return min_index\n",
    "\n",
    "# Function to print the constructed MST stored in parent[]\n",
    "def printMST(parent, graph, V):\n",
    "    print(\"Edge \\tWeight\")\n",
    "    for i in range(1, V):\n",
    "        print(parent[i], \"-\", i, \"\\t\", graph[i][parent[i]])\n",
    "\n",
    "# Function to construct and print MST for a graph represented using adjacency matrix representation\n",
    "def primMST(graph, V):\n",
    "    # Key values used to pick minimum weight edge in cut\n",
    "    key = [sys.maxsize] * V\n",
    "    # Array to store constructed MST\n",
    "    parent = [None] * V\n",
    "    # Boolean array to represent whether vertex i is included in MST or not\n",
    "    mstSet = [False] * V\n",
    "    \n",
    "    # Initialize key values and parent array for first vertex\n",
    "    key[0] = 0\n",
    "    parent[0] = -1\n",
    "    \n",
    "    for _ in range(V):\n",
    "        # Pick the minimum key vertex from the set of vertices not yet included in MST\n",
    "        u = minKey(key, mstSet, V)\n",
    "        \n",
    "        # Add the picked vertex to the MST Set\n",
    "        mstSet[u] = True\n",
    "        \n",
    "        # Update key and parent arrays of the adjacent vertices of the picked vertex\n",
    "        for v in range(V):\n",
    "            if graph[u][v] > 0 and mstSet[v] == False and graph[u][v] < key[v]:\n",
    "                key[v] = graph[u][v]\n",
    "                parent[v] = u\n",
    "    \n",
    "    # Print the constructed MST\n",
    "    printMST(parent, graph, V)\n",
    "\n",
    "# Example usage\n",
    "V = int(input(\"Enter the number of vertices: \"))\n",
    "graph = []\n",
    "for i in range(V):\n",
    "    row = list(map(int, input().split()))\n",
    "    graph.append(row)\n",
    "\n",
    "primMST(graph, V)\n"
   ]
  },
  {
   "cell_type": "code",
   "execution_count": null,
   "id": "c46f5393-a639-4829-aa0f-801ee5ad1d36",
   "metadata": {},
   "outputs": [],
   "source": []
  }
 ],
 "metadata": {
  "kernelspec": {
   "display_name": "Python 3 (ipykernel)",
   "language": "python",
   "name": "python3"
  },
  "language_info": {
   "codemirror_mode": {
    "name": "ipython",
    "version": 3
   },
   "file_extension": ".py",
   "mimetype": "text/x-python",
   "name": "python",
   "nbconvert_exporter": "python",
   "pygments_lexer": "ipython3",
   "version": "3.9.12"
  }
 },
 "nbformat": 4,
 "nbformat_minor": 5
}
