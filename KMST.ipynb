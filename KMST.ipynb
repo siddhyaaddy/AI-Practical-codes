{
 "cells": [
  {
   "cell_type": "code",
   "execution_count": 12,
   "id": "5b744669-5603-41ee-bd13-2fbea344cd4e",
   "metadata": {},
   "outputs": [
    {
     "name": "stdin",
     "output_type": "stream",
     "text": [
      "Enter the number of vertices:  4\n",
      "Enter the number of edges:  5\n",
      "Enter edge 1 (u, v, weight):  0 1 7\n",
      "Enter edge 2 (u, v, weight):  0 3 4\n",
      "Enter edge 3 (u, v, weight):  1 3 8\n",
      "Enter edge 4 (u, v, weight):  1 2 10\n",
      "Enter edge 5 (u, v, weight):  2 3 5\n"
     ]
    },
    {
     "name": "stdout",
     "output_type": "stream",
     "text": [
      "Minimum Spanning Tree:\n",
      "0 -- 3 == 4\n",
      "2 -- 3 == 5\n",
      "0 -- 1 == 7\n"
     ]
    }
   ],
   "source": [
    "# Kruskal's algorithm implementation in Python\n",
    "\n",
    "class Graph:\n",
    "    def __init__(self, vertices):\n",
    "        self.V = vertices\n",
    "        self.graph = []\n",
    "\n",
    "    # function to add an edge to the graph\n",
    "    def add_edge(self, u, v, w):\n",
    "        self.graph.append([u, v, w])\n",
    "\n",
    "    # find function for union-find algorithm\n",
    "    def find(self, parent, i):\n",
    "        if parent[i] == i:\n",
    "            return i\n",
    "        return self.find(parent, parent[i])\n",
    "\n",
    "    # union function for union-find algorithm\n",
    "    def union(self, parent, rank, x, y):\n",
    "        xroot = self.find(parent, x)\n",
    "        yroot = self.find(parent, y)\n",
    "\n",
    "        # Attach smaller rank tree under root of high rank tree\n",
    "        if rank[xroot] < rank[yroot]:\n",
    "            parent[xroot] = yroot\n",
    "        elif rank[xroot] > rank[yroot]:\n",
    "            parent[yroot] = xroot\n",
    "        else:\n",
    "            parent[yroot] = xroot\n",
    "            rank[xroot] += 1\n",
    "\n",
    "    # Kruskal's algorithm function\n",
    "    def kruskal_algorithm(self):\n",
    "        result = []\n",
    "        i = 0\n",
    "        e = 0\n",
    "\n",
    "        # sort the graph edges by weight in non-decreasing order\n",
    "        self.graph = sorted(self.graph, key=lambda item: item[2])\n",
    "\n",
    "        parent = []\n",
    "        rank = []\n",
    "\n",
    "        # initialize parent and rank arrays for union-find algorithm\n",
    "        for node in range(self.V):\n",
    "            parent.append(node)\n",
    "            rank.append(0)\n",
    "\n",
    "        # run Kruskal's algorithm to find the minimum spanning tree\n",
    "        while e < self.V - 1:\n",
    "            u, v, w = self.graph[i]\n",
    "            i = i + 1\n",
    "            x = self.find(parent, u)\n",
    "            y = self.find(parent, v)\n",
    "\n",
    "            # add the edge to the result if it doesn't create a cycle\n",
    "            if x != y:\n",
    "                e = e + 1\n",
    "                result.append([u, v, w])\n",
    "                self.union(parent, rank, x, y)\n",
    "\n",
    "        # print the minimum spanning tree\n",
    "        print(\"Minimum Spanning Tree:\")\n",
    "        for u, v, weight in result:\n",
    "            print(f\"{u} -- {v} == {weight}\")\n",
    "\n",
    "# driver code\n",
    "if __name__ == '__main__':\n",
    "    V = int(input(\"Enter the number of vertices: \"))\n",
    "    g = Graph(V)\n",
    "\n",
    "    E = int(input(\"Enter the number of edges: \"))\n",
    "    for i in range(E):\n",
    "        u, v, w = map(int, input(f\"Enter edge {i+1} (u, v, weight): \").split())\n",
    "        g.add_edge(u, v, w)\n",
    "\n",
    "    g.kruskal_algorithm()\n"
   ]
  },
  {
   "cell_type": "code",
   "execution_count": null,
   "id": "9d1654fb-ea5d-4bb2-ada0-7dfa52cc24ac",
   "metadata": {},
   "outputs": [],
   "source": []
  }
 ],
 "metadata": {
  "kernelspec": {
   "display_name": "Python 3 (ipykernel)",
   "language": "python",
   "name": "python3"
  },
  "language_info": {
   "codemirror_mode": {
    "name": "ipython",
    "version": 3
   },
   "file_extension": ".py",
   "mimetype": "text/x-python",
   "name": "python",
   "nbconvert_exporter": "python",
   "pygments_lexer": "ipython3",
   "version": "3.9.12"
  }
 },
 "nbformat": 4,
 "nbformat_minor": 5
}
